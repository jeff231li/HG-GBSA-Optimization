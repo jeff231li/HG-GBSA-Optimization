{
 "cells": [
  {
   "cell_type": "code",
   "execution_count": 1,
   "id": "2208400a",
   "metadata": {},
   "outputs": [
    {
     "name": "stderr",
     "output_type": "stream",
     "text": [
      "Warning: importing 'simtk.openmm' is deprecated.  Import 'openmm' instead.\n"
     ]
    }
   ],
   "source": [
    "from openff.evaluator import unit as openff_unit\n",
    "from openff.evaluator.datasets import PhysicalProperty"
   ]
  },
  {
   "cell_type": "code",
   "execution_count": 2,
   "id": "1d96ce16",
   "metadata": {},
   "outputs": [],
   "source": [
    "energy_unit = openff_unit.kcal / openff_unit.mole"
   ]
  },
  {
   "cell_type": "markdown",
   "id": "22b2f92b",
   "metadata": {},
   "source": [
    "### Get experiment data for test set"
   ]
  },
  {
   "cell_type": "code",
   "execution_count": 3,
   "id": "70debf7f",
   "metadata": {},
   "outputs": [
    {
     "data": {
      "text/plain": [
       "{'m4c': {'value': -4.318833652007648, 'uncertainty': 0.0059751434034416824},\n",
       " 'ben': {'value': -1.6395793499043978, 'uncertainty': 0.02390057361376673},\n",
       " 'cbu': {'value': -1.5535372848948374, 'uncertainty': 0.1673040152963671}}"
      ]
     },
     "execution_count": 3,
     "metadata": {},
     "output_type": "execute_result"
    }
   ],
   "source": [
    "test_data = PhysicalProperty.from_json(\"original/test_set.json\")\n",
    "\n",
    "experiment = {}\n",
    "for prop in test_data.properties:\n",
    "    guest_name = (\n",
    "        prop.metadata[\"guest_file_paths\"][\"guest_mol2_path\"]\n",
    "        .split(\"/\")[-1]\n",
    "        .split(\".\")[0]\n",
    "    )\n",
    "    experiment[guest_name] = {\n",
    "        \"value\": prop.value.to(energy_unit).magnitude,\n",
    "        \"uncertainty\": prop.uncertainty.to(energy_unit).magnitude,\n",
    "    }\n",
    "\n",
    "experiment"
   ]
  },
  {
   "cell_type": "markdown",
   "id": "98c9ea03",
   "metadata": {},
   "source": [
    "### Extract calculated results"
   ]
  },
  {
   "cell_type": "code",
   "execution_count": 4,
   "id": "808aa5fa",
   "metadata": {},
   "outputs": [],
   "source": [
    "def extract_results(json_file):\n",
    "    with open(json_file, \"r\") as f:\n",
    "        results = json.load(f)\n",
    "\n",
    "    calculated = {}\n",
    "    for prop in results[\"estimated_properties\"][\"properties\"]:\n",
    "        guest_name = (\n",
    "            prop[\"metadata\"][\"guest_file_paths\"][\"guest_mol2_path\"]\n",
    "            .split(\"/\")[-1]\n",
    "            .split(\".\")[0]\n",
    "        )\n",
    "        calculated[guest_name] = {\n",
    "            \"value\": openff_unit.Quantity(\n",
    "                prop[\"value\"][\"value\"],\n",
    "                units=prop[\"value\"][\"unit\"],\n",
    "            )\n",
    "            .to(energy_unit)\n",
    "            .magnitude,\n",
    "            \"uncertainty\": openff_unit.Quantity(\n",
    "                prop[\"uncertainty\"][\"value\"],\n",
    "                units=prop[\"uncertainty\"][\"unit\"],\n",
    "            )\n",
    "            .to(energy_unit)\n",
    "            .magnitude,\n",
    "        }\n",
    "\n",
    "    return calculated"
   ]
  },
  {
   "cell_type": "code",
   "execution_count": 5,
   "id": "bde964df",
   "metadata": {},
   "outputs": [],
   "source": [
    "calc_original = extract_results(\"original/results.json\")\n",
    "calc_optimized = extract_results(\"optimized/results.json\")"
   ]
  },
  {
   "cell_type": "code",
   "execution_count": 6,
   "id": "fbb67cbd",
   "metadata": {},
   "outputs": [
    {
     "data": {
      "text/plain": [
       "{'m4c': {'value': -7.776039509653752, 'uncertainty': 0.5631910878172937},\n",
       " 'ben': {'value': -1.8090953397231002, 'uncertainty': 0.5675474788593864},\n",
       " 'cbu': {'value': -5.3560943284260265, 'uncertainty': 0.5453597724234057}}"
      ]
     },
     "execution_count": 6,
     "metadata": {},
     "output_type": "execute_result"
    }
   ],
   "source": [
    "calc_original"
   ]
  },
  {
   "cell_type": "code",
   "execution_count": 7,
   "id": "2987d4ba",
   "metadata": {},
   "outputs": [
    {
     "data": {
      "text/plain": [
       "{'m4c': {'value': -4.510727072247038, 'uncertainty': 0.5012388630111474},\n",
       " 'ben': {'value': -2.714262147004421, 'uncertainty': 0.4968305272555053},\n",
       " 'cbu': {'value': -2.6662243575070486, 'uncertainty': 0.4934169705427141}}"
      ]
     },
     "execution_count": 7,
     "metadata": {},
     "output_type": "execute_result"
    }
   ],
   "source": [
    "calc_optimized"
   ]
  },
  {
   "cell_type": "markdown",
   "id": "e28d7b7e",
   "metadata": {},
   "source": [
    "### Get statistics"
   ]
  },
  {
   "cell_type": "code",
   "execution_count": 8,
   "id": "b688c77b",
   "metadata": {},
   "outputs": [],
   "source": [
    "from bootstrap import bootstrap"
   ]
  },
  {
   "cell_type": "code",
   "execution_count": 9,
   "id": "289c37e2",
   "metadata": {},
   "outputs": [],
   "source": [
    "# Collect all experiment value in \"x\" and calculated value in \"y\"\n",
    "x_val = []\n",
    "x_sem = []\n",
    "y_val_original = []\n",
    "y_sem_original = []\n",
    "y_val_optimized = []\n",
    "y_sem_optimized = []\n",
    "for guest in experiment:\n",
    "    x_val.append(experiment[guest][\"value\"])\n",
    "    x_sem.append(experiment[guest][\"uncertainty\"])\n",
    "\n",
    "    # Original\n",
    "    y_val_original.append(calc_original[guest][\"value\"])\n",
    "    y_sem_original.append(calc_original[guest][\"uncertainty\"])\n",
    "\n",
    "    # Optimized\n",
    "    y_val_optimized.append(calc_optimized[guest][\"value\"])\n",
    "    y_sem_optimized.append(calc_optimized[guest][\"uncertainty\"])\n",
    "\n",
    "# Calculate statistics\n",
    "stats_original = bootstrap(\n",
    "    x=x_val, x_sem=x_sem, y=y_val_original, y_sem=y_sem_original, cycles=10000\n",
    ")\n",
    "stats_optimized = bootstrap(\n",
    "    x=x_val, x_sem=x_sem, y=y_val_optimized, y_sem=y_sem_optimized, cycles=10000\n",
    ")"
   ]
  },
  {
   "cell_type": "markdown",
   "id": "b83c8e0b",
   "metadata": {},
   "source": [
    "### Plot comparison"
   ]
  },
  {
   "cell_type": "code",
   "execution_count": 10,
   "id": "74aa2750",
   "metadata": {},
   "outputs": [],
   "source": [
    "import matplotlib.pyplot as plt"
   ]
  },
  {
   "cell_type": "code",
   "execution_count": 11,
   "id": "770328d8",
   "metadata": {},
   "outputs": [],
   "source": [
    "def plot_results(\n",
    "    statistics,\n",
    "    x_data,\n",
    "    y_data,\n",
    "    lmin=-8,\n",
    "    lmax=2,\n",
    "):\n",
    "    fig, ax = plt.subplots(1, figsize=(6 * 1.0, 6))\n",
    "\n",
    "    # Plot calc vs expt\n",
    "    ax.scatter(x_data, y_data, color=\"r\", s=100)\n",
    "\n",
    "    # Plot statistics on top left of plot\n",
    "    text = f\"RMSE = {statistics['mean']['RMSE']:0.2f} [{statistics['ci_low']['RMSE']:0.2f}, {statistics['ci_high']['RMSE']:0.2f}]\"\n",
    "    text += \"\\n\"\n",
    "    text += f\"R$^2$ = {statistics['mean']['R**2']:0.2f} [{statistics['ci_low']['R**2']:0.2f}, {statistics['ci_high']['R**2']:0.2f}]\"\n",
    "    left, width = 0.25, 0.5\n",
    "    bottom, height = 0.25, 0.5\n",
    "    right = left + width\n",
    "    top = bottom + height\n",
    "    ax.annotate(\n",
    "        text,\n",
    "        (0.01, 0.99),\n",
    "        xytext=(4, -4),\n",
    "        xycoords=\"axes fraction\",\n",
    "        textcoords=\"offset points\",\n",
    "        horizontalalignment=\"left\",\n",
    "        verticalalignment=\"top\",\n",
    "        size=13,\n",
    "        backgroundcolor=\"white\",\n",
    "        transform=ax.transAxes,\n",
    "    )\n",
    "\n",
    "    # Plot x = y line\n",
    "    ax.plot([lmin, lmax], [lmin, lmax], \"-\", color=\"gray\", linewidth=1)\n",
    "    ax.set_xlabel(\"Expt\" + r\" $\\Delta$G (kcal/mol)\", fontsize=18)\n",
    "    ax.set_ylabel(\"Calc\" + r\" $\\Delta$G (kcal/mol)\", fontsize=18)\n",
    "\n",
    "    # Plot misc\n",
    "    ax.set_ylim(lmin, lmax)\n",
    "    ax.set_xlim(lmin, lmax)\n",
    "    plt.xticks(fontsize=16)\n",
    "    plt.yticks(fontsize=16)\n",
    "    ax.grid()"
   ]
  },
  {
   "cell_type": "code",
   "execution_count": 12,
   "id": "01e642d8",
   "metadata": {},
   "outputs": [
    {
     "data": {
      "text/plain": [
       "Text(0.5, 1.0, 'Original OBC1 GB Radius')"
      ]
     },
     "execution_count": 12,
     "metadata": {},
     "output_type": "execute_result"
    },
    {
     "data": {
      "image/png": "[encoded data removed]",
      "text/plain": [
       "<Figure size 432x432 with 1 Axes>"
      ]
     },
     "metadata": {
      "needs_background": "light"
     },
     "output_type": "display_data"
    }
   ],
   "source": [
    "plot_results(\n",
    "    stats_original,\n",
    "    x_val,\n",
    "    y_val_original,\n",
    "    lmin=-10,\n",
    "    lmax=0,\n",
    ")\n",
    "plt.title(\"Original OBC1 GB Radius\", fontsize=16)"
   ]
  },
  {
   "cell_type": "code",
   "execution_count": 13,
   "id": "2a5bf5ae",
   "metadata": {},
   "outputs": [
    {
     "data": {
      "text/plain": [
       "Text(0.5, 1.0, 'Optimized OBC1 GB Radius')"
      ]
     },
     "execution_count": 13,
     "metadata": {},
     "output_type": "execute_result"
    },
    {
     "data": {
      "image/png": "[encoded data removed]",
      "text/plain": [
       "<Figure size 432x432 with 1 Axes>"
      ]
     },
     "metadata": {
      "needs_background": "light"
     },
     "output_type": "display_data"
    }
   ],
   "source": [
    "plot_results(\n",
    "    stats_optimized,\n",
    "    x_val,\n",
    "    y_val_optimized,\n",
    "    lmin=-10,\n",
    "    lmax=0,\n",
    ")\n",
    "plt.title(\"Optimized OBC1 GB Radius\", fontsize=16)"
   ]
  },
  {
   "cell_type": "code",
   "execution_count": null,
   "id": "cc429eab",
   "metadata": {},
   "outputs": [],
   "source": []
  }
 ],
 "metadata": {
  "kernelspec": {
   "display_name": "openff-evaluator",
   "language": "python",
   "name": "openff-evaluator"
  },
  "language_info": {
   "codemirror_mode": {
    "name": "ipython",
    "version": 3
   },
   "file_extension": ".py",
   "mimetype": "text/x-python",
   "name": "python",
   "nbconvert_exporter": "python",
   "pygments_lexer": "ipython3",
   "version": "3.8.13"
  }
 },
 "nbformat": 4,
 "nbformat_minor": 5
}
